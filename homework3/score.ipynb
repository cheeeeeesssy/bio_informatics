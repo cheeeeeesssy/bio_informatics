{
 "cells": [
  {
   "cell_type": "code",
   "execution_count": 19,
   "id": "b2f76bec-95ec-4d7f-8ef1-2c6923ac96d9",
   "metadata": {},
   "outputs": [],
   "source": [
    "seq1 = \"CATCGGC\"\n",
    "seq2 = \"TTTGGGG\""
   ]
  },
  {
   "cell_type": "code",
   "execution_count": 20,
   "id": "54ae6d87-a939-445e-a167-8dcbe43135e1",
   "metadata": {},
   "outputs": [],
   "source": [
    "def needleman_wunsch(seq1, seq2, match=1, mismatch=-1, gap=-1):\n",
    "    n = len(seq1)\n",
    "    m = len(seq2)\n",
    "    \n",
    "    dp = [[0] * (m + 1) for _ in range(n + 1)]\n",
    "    \n",
    "    for i in range(n + 1):\n",
    "        dp[i][0] = gap * i\n",
    "    for j in range(m + 1):\n",
    "        dp[0][j] = gap * j\n",
    "    \n",
    "    for i in range(1, n + 1):\n",
    "        for j in range(1, m + 1):\n",
    "            score = match if seq1[i - 1] == seq2[j - 1] else mismatch\n",
    "            dp[i][j] = max(dp[i - 1][j - 1] + score,\n",
    "                           dp[i - 1][j] + gap,\n",
    "                           dp[i][j - 1] + gap)\n",
    "    return dp[m][n]"
   ]
  },
  {
   "cell_type": "code",
   "execution_count": 21,
   "id": "f26dcd1a-aa8b-4004-a6a9-f04beff50a5c",
   "metadata": {},
   "outputs": [
    {
     "name": "stdout",
     "output_type": "stream",
     "text": [
      " score = -1\n"
     ]
    }
   ],
   "source": [
    "print(f' score = {needleman_wunsch(seq1, seq2)}')"
   ]
  },
  {
   "cell_type": "code",
   "execution_count": null,
   "id": "a06b400b-5aa7-4472-bae3-3bb0c908ecad",
   "metadata": {},
   "outputs": [],
   "source": []
  }
 ],
 "metadata": {
  "kernelspec": {
   "display_name": "Python 3 (ipykernel)",
   "language": "python",
   "name": "python3"
  },
  "language_info": {
   "codemirror_mode": {
    "name": "ipython",
    "version": 3
   },
   "file_extension": ".py",
   "mimetype": "text/x-python",
   "name": "python",
   "nbconvert_exporter": "python",
   "pygments_lexer": "ipython3",
   "version": "3.12.9"
  }
 },
 "nbformat": 4,
 "nbformat_minor": 5
}
