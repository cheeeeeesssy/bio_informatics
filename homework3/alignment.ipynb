{
 "cells": [
  {
   "cell_type": "code",
   "execution_count": 76,
   "id": "d798cc0d-685c-4d73-b165-a2bafef66da1",
   "metadata": {},
   "outputs": [],
   "source": [
    "seq1 = \"CATCGGC\"\n",
    "seq2 = \"TTTGGGG\""
   ]
  },
  {
   "cell_type": "code",
   "execution_count": 77,
   "id": "b1a49a3e-b732-4417-8d4d-fecd5870bb2f",
   "metadata": {},
   "outputs": [],
   "source": [
    "def needleman_wunsch(seq1, seq2, match=1, mismatch=-1, gap=-1):\n",
    "    n = len(seq1)\n",
    "    m = len(seq2)\n",
    "\n",
    "    dp = [[0] * (m + 1) for _ in range(n + 1)]\n",
    "    traceback = [[(0, 0)] * (m + 1) for _ in range(n + 1)]\n",
    "\n",
    "    for i in range(n + 1):\n",
    "        dp[i][0] = gap * i\n",
    "        traceback[i][0] = (-1, 0)\n",
    "    for j in range(m + 1):\n",
    "        dp[0][j] = gap * j\n",
    "        traceback[0][j] = (0, -1)\n",
    "\n",
    "    traceback[0][0] = (0, 0)\n",
    "\n",
    "    for i in range(1, n + 1):\n",
    "        for j in range(1, m + 1):\n",
    "            score = match if seq1[i - 1] == seq2[j - 1] else mismatch\n",
    "            diag_score = dp[i - 1][j - 1] + score\n",
    "            up_score = dp[i - 1][j] + gap\n",
    "            left_score = dp[i][j - 1] + gap\n",
    "\n",
    "            dp[i][j] = max(diag_score, up_score, left_score)\n",
    "\n",
    "            if dp[i][j] == diag_score:\n",
    "                traceback[i][j] = (-1, -1)\n",
    "            elif dp[i][j] == up_score:\n",
    "                traceback[i][j] = (-1, 0)\n",
    "            else:\n",
    "                traceback[i][j] = (0, -1)\n",
    "\n",
    "    align1 = \"\"\n",
    "    align2 = \"\"\n",
    "    match_str = \"\"\n",
    "    i = n\n",
    "    j = m\n",
    "\n",
    "    while i > 0 or j > 0:\n",
    "        di, dj = traceback[i][j]\n",
    "\n",
    "        if di == -1 and dj == -1:\n",
    "            align1 = seq1[i - 1] + align1\n",
    "            align2 = seq2[j - 1] + align2\n",
    "            if seq1[i-1] == seq2[j-1]:\n",
    "                match_str = \"|\" + match_str\n",
    "            else:\n",
    "                match_str = \" \" + match_str\n",
    "            i -= 1\n",
    "            j -= 1\n",
    "        elif di == -1 and dj == 0:\n",
    "            align1 = seq1[i - 1] + align1\n",
    "            align2 = \"-\" + align2\n",
    "            match_str = \" \" + match_str\n",
    "            i -= 1\n",
    "        elif di == 0 and dj == -1:\n",
    "            align1 = \"-\" + align1\n",
    "            align2 = seq2[j - 1] + align2\n",
    "            match_str = \" \" + match_str\n",
    "            j -= 1\n",
    "\n",
    "    result = f\" {align1}\\n {match_str}\\n {align2}\"\n",
    "    return result"
   ]
  },
  {
   "cell_type": "code",
   "execution_count": 78,
   "id": "98d7912c-eee0-4a69-a56f-ffa5218d9d12",
   "metadata": {},
   "outputs": [
    {
     "name": "stdout",
     "output_type": "stream",
     "text": [
      " CATCGGC\n",
      "   | || \n",
      " TTTGGGG\n"
     ]
    }
   ],
   "source": [
    "visual = needleman_wunsch(seq1, seq2)\n",
    "print(visual)"
   ]
  },
  {
   "cell_type": "code",
   "execution_count": null,
   "id": "10a63116-d4de-4cb8-a37e-cfd720e1a606",
   "metadata": {},
   "outputs": [],
   "source": []
  }
 ],
 "metadata": {
  "kernelspec": {
   "display_name": "Python 3 (ipykernel)",
   "language": "python",
   "name": "python3"
  },
  "language_info": {
   "codemirror_mode": {
    "name": "ipython",
    "version": 3
   },
   "file_extension": ".py",
   "mimetype": "text/x-python",
   "name": "python",
   "nbconvert_exporter": "python",
   "pygments_lexer": "ipython3",
   "version": "3.12.9"
  }
 },
 "nbformat": 4,
 "nbformat_minor": 5
}
