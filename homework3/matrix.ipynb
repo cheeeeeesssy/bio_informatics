{
 "cells": [
  {
   "cell_type": "code",
   "execution_count": 1,
   "id": "b9101428-074e-4b22-957c-2a9633843598",
   "metadata": {},
   "outputs": [],
   "source": [
    "seq1 = \"CATCGGC\"\n",
    "seq2 = \"TTTGGGG\""
   ]
  },
  {
   "cell_type": "code",
   "execution_count": 7,
   "id": "c6706611-99f9-4615-a9cb-6393941df1c2",
   "metadata": {},
   "outputs": [],
   "source": [
    "def needleman_wunsch(seq1, seq2, match=1, mismatch=-1, gap=-1):\n",
    "    n = len(seq1)\n",
    "    m = len(seq2)\n",
    "    \n",
    "    dp = [[0] * (m + 1) for _ in range(n + 1)]\n",
    "    \n",
    "    for i in range(n + 1):\n",
    "        dp[i][0] = gap * i\n",
    "    for j in range(m + 1):\n",
    "        dp[0][j] = gap * j\n",
    "    \n",
    "    for i in range(1, n + 1):\n",
    "        for j in range(1, m + 1):\n",
    "            score = match if seq1[i - 1] == seq2[j - 1] else mismatch\n",
    "            dp[i][j] = max(dp[i - 1][j - 1] + score,\n",
    "                           dp[i - 1][j] + gap,\n",
    "                           dp[i][j - 1] + gap)\n",
    "    \n",
    "    return dp"
   ]
  },
  {
   "cell_type": "code",
   "execution_count": 8,
   "id": "db951dff-ebc7-41d5-99c5-e424b9856d43",
   "metadata": {},
   "outputs": [
    {
     "data": {
      "text/plain": [
       "[[0, -1, -2, -3, -4, -5, -6, -7],\n",
       " [-1, -1, -2, -3, -4, -5, -6, -7],\n",
       " [-2, -2, -2, -3, -4, -5, -6, -7],\n",
       " [-3, -1, -1, -1, -2, -3, -4, -5],\n",
       " [-4, -2, -2, -2, -2, -3, -4, -5],\n",
       " [-5, -3, -3, -3, -1, -1, -2, -3],\n",
       " [-6, -4, -4, -4, -2, 0, 0, -1],\n",
       " [-7, -5, -5, -5, -3, -1, -1, -1]]"
      ]
     },
     "execution_count": 8,
     "metadata": {},
     "output_type": "execute_result"
    }
   ],
   "source": [
    "needleman_wunsch(seq1, seq2)"
   ]
  },
  {
   "cell_type": "code",
   "execution_count": null,
   "id": "2aa4d2dc-1506-483d-8b80-12d202bd3768",
   "metadata": {},
   "outputs": [],
   "source": []
  }
 ],
 "metadata": {
  "kernelspec": {
   "display_name": "Python 3 (ipykernel)",
   "language": "python",
   "name": "python3"
  },
  "language_info": {
   "codemirror_mode": {
    "name": "ipython",
    "version": 3
   },
   "file_extension": ".py",
   "mimetype": "text/x-python",
   "name": "python",
   "nbconvert_exporter": "python",
   "pygments_lexer": "ipython3",
   "version": "3.12.9"
  }
 },
 "nbformat": 4,
 "nbformat_minor": 5
}
